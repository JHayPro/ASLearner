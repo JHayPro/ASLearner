{
 "cells": [
  {
   "cell_type": "markdown",
   "id": "abandoned-blake",
   "metadata": {},
   "source": [
    "# ASLearner "
   ]
  },
  {
   "cell_type": "markdown",
   "id": "liberal-intention",
   "metadata": {},
   "source": [
    "### Read Input from Camera"
   ]
  },
  {
   "cell_type": "code",
   "execution_count": 2,
   "id": "polished-taiwan",
   "metadata": {},
   "outputs": [],
   "source": [
    "import cv2\n",
    "import os\n",
    "import time\n",
    "import uuid"
   ]
  },
  {
   "cell_type": "code",
   "execution_count": 3,
   "id": "c4a09ae3",
   "metadata": {},
   "outputs": [],
   "source": [
    "IMAGES_PATH = 'TensorFlow/workspace/images/collectedimages'"
   ]
  },
  {
   "cell_type": "code",
   "execution_count": null,
   "id": "381bd27a",
   "metadata": {},
   "outputs": [],
   "source": [
    "labels=['hello','A', 'B', 'C', 'D', 'E', 'F','G','H','I','J','K','L','M','N','O','P','Q','R','S','T','U','V','W','X','Y','Z']\n",
    "number_imgs = 15 #number of images per label"
   ]
  },
  {
   "cell_type": "code",
   "execution_count": null,
   "id": "6d4076dc",
   "metadata": {},
   "outputs": [],
   "source": [
    "#loop through labels and create directory for each label\n",
    "for label in labels:\n",
    "    !mkdir{'Tensorflow\\workspace\\images\\collectedimages\\\\'+label}\n",
    "    #initialize camera\n",
    "    cap = cv2.VideoCapture(0)\n",
    "    cap.set(10, 150) # Optional Brightness\n",
    "    print('Collecting images for {}'.format(label))\n",
    "    time.sleep(5)\n",
    "    #capture images for current label\n",
    "    for img_num in range(number_imgs):\n",
    "        ret, frame = cap.read()\n",
    "        frame = cv2.flip(frame, 1)\n",
    "        imgname = os.path.join(IMAGES_PATH, labels+'.'+'{}.jpg'.format(str(uuid.uuid1())))\n",
    "        cv2.imwrite(imgname, frame)\n",
    "        cv2.imshow('frame', frame)\n",
    "        time.sleep(2)\n",
    "        \n",
    "        if(cv2.waitKey(1) & 0xff==ord('q')):\n",
    "            break\n",
    "    cap.release()"
   ]
  },
  {
   "cell_type": "code",
   "execution_count": null,
   "id": "1647c8f0",
   "metadata": {},
   "outputs": [],
   "source": []
  }
 ],
 "metadata": {
  "kernelspec": {
   "display_name": "Python 3 (ipykernel)",
   "language": "python",
   "name": "python3"
  },
  "language_info": {
   "codemirror_mode": {
    "name": "ipython",
    "version": 3
   },
   "file_extension": ".py",
   "mimetype": "text/x-python",
   "name": "python",
   "nbconvert_exporter": "python",
   "pygments_lexer": "ipython3",
   "version": "3.9.6"
  }
 },
 "nbformat": 4,
 "nbformat_minor": 5
}
