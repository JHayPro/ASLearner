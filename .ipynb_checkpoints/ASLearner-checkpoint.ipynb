{
 "cells": [
  {
   "cell_type": "markdown",
   "id": "innovative-toilet",
   "metadata": {},
   "source": [
    "# ASLearner "
   ]
  },
  {
   "cell_type": "markdown",
   "id": "split-jimmy",
   "metadata": {},
   "source": [
    "### Read Input from Camera"
   ]
  },
  {
   "cell_type": "code",
   "execution_count": 1,
   "id": "urban-thermal",
   "metadata": {},
   "outputs": [],
   "source": [
    "import cv2\n",
    "# optional, we might get rid of them later\n",
    "frameWidth = 640\n",
    "frameHeight = 480\n",
    "# you might need to change it to cap = cv2.VideoCapture(1)\n",
    "cap = cv2.VideoCapture(0)\n",
    "cap.set(3, frameWidth)\n",
    "cap.set(4, frameHeight)\n",
    "cap.set(10, 150) # Optional Brightness\n",
    "\n",
    "# to quit the stream, press q on your keyborad\n",
    "while True:\n",
    "    success, img = cap.read()\n",
    "    cv2.imshow(\"Image\", img)\n",
    "    if cv2.waitKey(1) & 0xFF == ord('q'):\n",
    "        break\n",
    "cap.release()\n",
    "cv2.destroyAllWindows()"
   ]
  },
  {
   "cell_type": "code",
   "execution_count": null,
   "id": "presidential-marketplace",
   "metadata": {},
   "outputs": [],
   "source": []
  }
 ],
 "metadata": {
  "kernelspec": {
   "display_name": "Python 3",
   "language": "python",
   "name": "python3"
  },
  "language_info": {
   "codemirror_mode": {
    "name": "ipython",
    "version": 3
   },
   "file_extension": ".py",
   "mimetype": "text/x-python",
   "name": "python",
   "nbconvert_exporter": "python",
   "pygments_lexer": "ipython3",
   "version": "3.8.8"
  }
 },
 "nbformat": 4,
 "nbformat_minor": 5
}
